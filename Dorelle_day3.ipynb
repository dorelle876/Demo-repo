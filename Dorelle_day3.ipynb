{
  "nbformat": 4,
  "nbformat_minor": 0,
  "metadata": {
    "colab": {
      "name": "Dorelle-day3.ipynb",
      "provenance": [],
      "authorship_tag": "ABX9TyMEn/aOdvoUgODfXE/RIvYP",
      "include_colab_link": true
    },
    "kernelspec": {
      "name": "python3",
      "display_name": "Python 3"
    },
    "language_info": {
      "name": "python"
    }
  },
  "cells": [
    {
      "cell_type": "markdown",
      "metadata": {
        "id": "view-in-github",
        "colab_type": "text"
      },
      "source": [
        "<a href=\"https://colab.research.google.com/github/dorelle876/Demo-repo/blob/main/Dorelle_day3.ipynb\" target=\"_parent\"><img src=\"https://colab.research.google.com/assets/colab-badge.svg\" alt=\"Open In Colab\"/></a>"
      ]
    },
    {
      "cell_type": "code",
      "execution_count": 57,
      "metadata": {
        "id": "c_tWtDosa4jo"
      },
      "outputs": [],
      "source": [
        "movies = ['Spiderman','Clueless','The Goonies','Die Hard']"
      ]
    },
    {
      "cell_type": "code",
      "source": [
        "print(movies)"
      ],
      "metadata": {
        "colab": {
          "base_uri": "https://localhost:8080/"
        },
        "id": "qMt4EL6dbX8y",
        "outputId": "6cbc5efb-59ef-4fb5-90c3-85f513c9aa1c"
      },
      "execution_count": 3,
      "outputs": [
        {
          "output_type": "stream",
          "name": "stdout",
          "text": [
            "['Spiderman', 'Clueless', 'The Goonies', 'Die Hard']\n"
          ]
        }
      ]
    },
    {
      "cell_type": "code",
      "source": [
        "print(movies[1])\n",
        "print(movies[3])"
      ],
      "metadata": {
        "colab": {
          "base_uri": "https://localhost:8080/"
        },
        "id": "hWIAzPmebelP",
        "outputId": "3cbb3754-f247-457d-da21-0022f24d54ed"
      },
      "execution_count": 5,
      "outputs": [
        {
          "output_type": "stream",
          "name": "stdout",
          "text": [
            "Clueless\n",
            "Die Hard\n"
          ]
        }
      ]
    },
    {
      "cell_type": "code",
      "source": [
        "print(movies[-1]) # pulls from end of list\n",
        "print(movies[-2])"
      ],
      "metadata": {
        "colab": {
          "base_uri": "https://localhost:8080/"
        },
        "id": "d-pWgABNcgwE",
        "outputId": "89fad1ef-c9f2-46b9-9f6c-145b6f46e87a"
      },
      "execution_count": 8,
      "outputs": [
        {
          "output_type": "stream",
          "name": "stdout",
          "text": [
            "Die Hard\n",
            "The Goonies\n"
          ]
        }
      ]
    },
    {
      "cell_type": "code",
      "source": [
        "print(movies[0].upper())\n",
        "print(movies[0].lower())\n",
        "print(movies[0].title())"
      ],
      "metadata": {
        "colab": {
          "base_uri": "https://localhost:8080/"
        },
        "id": "it48XsKsdUsW",
        "outputId": "b9a35c8d-2da9-4790-8d95-ffee7f8e99ac"
      },
      "execution_count": 12,
      "outputs": [
        {
          "output_type": "stream",
          "name": "stdout",
          "text": [
            "SPIDERMAN\n",
            "spiderman\n",
            "Spiderman\n"
          ]
        }
      ]
    },
    {
      "cell_type": "code",
      "source": [
        "message = \"My favorite movie is \" + movies[3].upper() + '!'"
      ],
      "metadata": {
        "id": "uRtjw1jXfNfa"
      },
      "execution_count": 14,
      "outputs": []
    },
    {
      "cell_type": "code",
      "source": [
        "print(message)"
      ],
      "metadata": {
        "colab": {
          "base_uri": "https://localhost:8080/"
        },
        "id": "1P3lT5RXfsmx",
        "outputId": "cbadfb8b-3686-4512-d796-9fc4b65e59cc"
      },
      "execution_count": 15,
      "outputs": [
        {
          "output_type": "stream",
          "name": "stdout",
          "text": [
            "My favorite movie is DIE HARD!\n"
          ]
        }
      ]
    },
    {
      "cell_type": "code",
      "source": [
        "names = ['Navylia', 'Palthi', 'Osiris', 'Providence', 'Colombe', 'Christ', 'Aaron']"
      ],
      "metadata": {
        "id": "o-u5MIUsf6Lz"
      },
      "execution_count": 16,
      "outputs": []
    },
    {
      "cell_type": "code",
      "source": [
        "print(names[0])\n",
        "print(names[1])\n",
        "print(names[2])\n",
        "print(names[3])\n",
        "print(names[4])\n",
        "print(names[-2])\n",
        "print(names[-1])\n",
        "print(names)"
      ],
      "metadata": {
        "colab": {
          "base_uri": "https://localhost:8080/"
        },
        "id": "6HpYbI6Ygil2",
        "outputId": "39c1f0b9-5249-47d2-c0c9-7a9a7dfc4c31"
      },
      "execution_count": 45,
      "outputs": [
        {
          "output_type": "stream",
          "name": "stdout",
          "text": [
            "Navylia\n",
            "Palthi\n",
            "Osiris\n",
            "Providence\n",
            "Colombe\n",
            "Christ\n",
            "Aaron\n",
            "['Navylia', 'Palthi', 'Osiris', 'Providence', 'Colombe', 'Christ', 'Aaron']\n"
          ]
        }
      ]
    },
    {
      "cell_type": "code",
      "source": [
        "message = \"I love you,\" + names[0] \n",
        "message1 =\"you are the best,\"+ names[1]\n",
        "message2 = \"See you tomorrow,\" + names[2]\n",
        "message3 = \"I heard you are unemployed now,\" + names[3]\n",
        "message4 =\" I appreciate you,\" + names[4]\n",
        "message5 = \" keep it up,\" + names[-2]\n",
        "message6 = \"Thank you for your time,\" + names[-1]"
      ],
      "metadata": {
        "id": "Rz_NCpvIhSQe"
      },
      "execution_count": 49,
      "outputs": []
    },
    {
      "cell_type": "code",
      "source": [
        "print(message6)"
      ],
      "metadata": {
        "colab": {
          "base_uri": "https://localhost:8080/"
        },
        "id": "NuTKI9HJlI_o",
        "outputId": "774bc6bd-e58a-4bb7-a333-b224c848913a"
      },
      "execution_count": 50,
      "outputs": [
        {
          "output_type": "stream",
          "name": "stdout",
          "text": [
            "Thank you for your time,Aaron\n"
          ]
        }
      ]
    },
    {
      "cell_type": "code",
      "source": [
        "print(movies)\n",
        "movies.append('legally Blonde')\n",
        "print(movies)"
      ],
      "metadata": {
        "colab": {
          "base_uri": "https://localhost:8080/"
        },
        "id": "uZPhpiZUt305",
        "outputId": "43defb18-d607-4332-838d-b5f42c626282"
      },
      "execution_count": 60,
      "outputs": [
        {
          "output_type": "stream",
          "name": "stdout",
          "text": [
            "['Spiderman', 'Clueless', 'The Goonies', 'Die Hard', 'legally Blonde']\n",
            "['Spiderman', 'Clueless', 'The Goonies', 'Die Hard', 'legally Blonde', 'legally Blonde']\n"
          ]
        }
      ]
    },
    {
      "cell_type": "code",
      "source": [
        "movies.insert(1,'Aladdin')"
      ],
      "metadata": {
        "id": "IzuwT95Pt5Rs"
      },
      "execution_count": 61,
      "outputs": []
    },
    {
      "cell_type": "code",
      "source": [
        "print(movies)"
      ],
      "metadata": {
        "colab": {
          "base_uri": "https://localhost:8080/"
        },
        "id": "NdQXKIq3wH8H",
        "outputId": "6a27d097-3827-411d-e17f-bc6a688f5e3e"
      },
      "execution_count": 62,
      "outputs": [
        {
          "output_type": "stream",
          "name": "stdout",
          "text": [
            "['Spiderman', 'Aladdin', 'Clueless', 'The Goonies', 'Die Hard', 'legally Blonde', 'legally Blonde']\n"
          ]
        }
      ]
    },
    {
      "cell_type": "code",
      "source": [
        "print(movies)\n",
        "del movies[-2]\n",
        "print(movies)"
      ],
      "metadata": {
        "colab": {
          "base_uri": "https://localhost:8080/"
        },
        "id": "O3uHKvyLwWov",
        "outputId": "5cdc161a-e51e-4b04-ce54-18bdcb897d73"
      },
      "execution_count": 65,
      "outputs": [
        {
          "output_type": "stream",
          "name": "stdout",
          "text": [
            "['Spiderman', 'Aladdin', 'Clueless', 'The Goonies', 'Die Hard', 'legally Blonde']\n",
            "['Spiderman', 'Aladdin', 'Clueless', 'The Goonies', 'legally Blonde']\n"
          ]
        }
      ]
    },
    {
      "cell_type": "code",
      "source": [
        ""
      ],
      "metadata": {
        "id": "vKAYpwZgwmeX"
      },
      "execution_count": 66,
      "outputs": []
    },
    {
      "cell_type": "code",
      "source": [
        "print(message5)"
      ],
      "metadata": {
        "colab": {
          "base_uri": "https://localhost:8080/"
        },
        "id": "LQh1E3f-kurt",
        "outputId": "554fe278-b80e-4142-9518-60c7abbc1f2f"
      },
      "execution_count": 47,
      "outputs": [
        {
          "output_type": "stream",
          "name": "stdout",
          "text": [
            " keep it up,Christ\n"
          ]
        }
      ]
    },
    {
      "cell_type": "code",
      "source": [
        "print(message4)"
      ],
      "metadata": {
        "colab": {
          "base_uri": "https://localhost:8080/"
        },
        "id": "JZuFaixSkN11",
        "outputId": "22e45618-3d3e-4472-9dec-70edf1a2e1b4"
      },
      "execution_count": 44,
      "outputs": [
        {
          "output_type": "stream",
          "name": "stdout",
          "text": [
            " I appreciate you,Colombe\n"
          ]
        }
      ]
    },
    {
      "cell_type": "code",
      "source": [
        "print(message2)"
      ],
      "metadata": {
        "colab": {
          "base_uri": "https://localhost:8080/"
        },
        "id": "lk5lFfLZjXzz",
        "outputId": "ece9b172-b8cf-4a25-96aa-94f575351542"
      },
      "execution_count": 40,
      "outputs": [
        {
          "output_type": "stream",
          "name": "stdout",
          "text": [
            "See you tomorrow,Osiris\n"
          ]
        }
      ]
    },
    {
      "cell_type": "code",
      "source": [
        "print(message3)"
      ],
      "metadata": {
        "colab": {
          "base_uri": "https://localhost:8080/"
        },
        "id": "pNk7pKcIjZUN",
        "outputId": "bcdc7cbf-c196-4092-c3f0-d13411ef1df7"
      },
      "execution_count": 42,
      "outputs": [
        {
          "output_type": "stream",
          "name": "stdout",
          "text": [
            "I heard you are unemployed now,Providence\n"
          ]
        }
      ]
    },
    {
      "cell_type": "code",
      "source": [
        "print(message)"
      ],
      "metadata": {
        "colab": {
          "base_uri": "https://localhost:8080/"
        },
        "id": "NeTq4TQ9imIE",
        "outputId": "5f504856-87f6-4865-d15e-ee1d2e3d81f8"
      },
      "execution_count": 35,
      "outputs": [
        {
          "output_type": "stream",
          "name": "stdout",
          "text": [
            "I love you,Navylia\n"
          ]
        }
      ]
    },
    {
      "cell_type": "code",
      "source": [
        "print(message1)"
      ],
      "metadata": {
        "colab": {
          "base_uri": "https://localhost:8080/"
        },
        "id": "YStPQmVjivn4",
        "outputId": "80029302-cfe9-4808-b7e5-46c50f2d515c"
      },
      "execution_count": 38,
      "outputs": [
        {
          "output_type": "stream",
          "name": "stdout",
          "text": [
            "you are the best,Palthi\n"
          ]
        }
      ]
    },
    {
      "cell_type": "markdown",
      "source": [
        "Exercise"
      ],
      "metadata": {
        "id": "-aHfm865x2gO"
      }
    },
    {
      "cell_type": "code",
      "source": [
        "Foods = ['Broccoli','Pizza', 'Chili Sauce']"
      ],
      "metadata": {
        "id": "fkRQdruH8XFA"
      },
      "execution_count": 131,
      "outputs": []
    },
    {
      "cell_type": "code",
      "source": [
        "print(\"My favorite foods are\" +Foods[0] + \"'\" + Foods[1] + \", and \" + Foods[2] + \",\")"
      ],
      "metadata": {
        "colab": {
          "base_uri": "https://localhost:8080/"
        },
        "id": "Vk2cO3aF8x2E",
        "outputId": "4a254e32-3522-486b-a985-f91e52359c56"
      },
      "execution_count": 109,
      "outputs": [
        {
          "output_type": "stream",
          "name": "stdout",
          "text": [
            "My favorite foods areBroccoli'Pizza, and Chili Sauce,\n"
          ]
        }
      ]
    },
    {
      "cell_type": "code",
      "source": [
        "print(Foods)\n",
        "del Foods[1]\n"
      ],
      "metadata": {
        "colab": {
          "base_uri": "https://localhost:8080/"
        },
        "id": "1pnQPJyZ-N_l",
        "outputId": "3f65dfb8-0cb6-4a2b-b70c-08da67c930ab"
      },
      "execution_count": 129,
      "outputs": [
        {
          "output_type": "stream",
          "name": "stdout",
          "text": [
            "['Broccoli', 'Chili Sauce']\n"
          ]
        }
      ]
    },
    {
      "cell_type": "code",
      "source": [
        "print(Foods)\n",
        "Foods.insert(0,'French fries')"
      ],
      "metadata": {
        "colab": {
          "base_uri": "https://localhost:8080/"
        },
        "id": "P9wqXoUH-3T_",
        "outputId": "9ec43ac9-0470-4f6a-9315-e037d0e8d9ba"
      },
      "execution_count": 133,
      "outputs": [
        {
          "output_type": "stream",
          "name": "stdout",
          "text": [
            "['French fries', 'Broccoli', 'Pizza', 'Chili Sauce']\n"
          ]
        }
      ]
    },
    {
      "cell_type": "code",
      "source": [
        "print(Foods)"
      ],
      "metadata": {
        "colab": {
          "base_uri": "https://localhost:8080/"
        },
        "id": "4QC4dyku_d04",
        "outputId": "8834fede-b318-4326-b4d8-5d84c726987f"
      },
      "execution_count": 134,
      "outputs": [
        {
          "output_type": "stream",
          "name": "stdout",
          "text": [
            "['French fries', 'French fries', 'Broccoli', 'Pizza', 'Chili Sauce']\n"
          ]
        }
      ]
    },
    {
      "cell_type": "code",
      "source": [
        "Foods.sort()\n",
        "print(Foods)"
      ],
      "metadata": {
        "colab": {
          "base_uri": "https://localhost:8080/"
        },
        "id": "LkfjoSAK_kNx",
        "outputId": "5058951e-1237-440b-ef52-d9cf95a824d5"
      },
      "execution_count": 136,
      "outputs": [
        {
          "output_type": "stream",
          "name": "stdout",
          "text": [
            "['Broccoli', 'Chili Sauce', 'French fries', 'French fries', 'Pizza']\n"
          ]
        }
      ]
    },
    {
      "cell_type": "code",
      "source": [
        "Foods.sort(reverse=True)\n",
        "print(Foods)"
      ],
      "metadata": {
        "colab": {
          "base_uri": "https://localhost:8080/"
        },
        "id": "aEDkQFYK_0hW",
        "outputId": "cb86f77d-1fb3-4fe3-87b6-58465b0d3361"
      },
      "execution_count": 138,
      "outputs": [
        {
          "output_type": "stream",
          "name": "stdout",
          "text": [
            "['Pizza', 'French fries', 'French fries', 'Chili Sauce', 'Broccoli']\n"
          ]
        }
      ]
    },
    {
      "cell_type": "code",
      "source": [
        "Travel = ['Congo', 'France', 'Belgium', 'Canada', 'Kenya']\n",
        "print(Travel)"
      ],
      "metadata": {
        "colab": {
          "base_uri": "https://localhost:8080/"
        },
        "id": "yGxVojd_AEL-",
        "outputId": "14189486-dbd7-4d61-a8a0-8092b90be3a6"
      },
      "execution_count": 141,
      "outputs": [
        {
          "output_type": "stream",
          "name": "stdout",
          "text": [
            "['Congo', 'France', 'Belgium', 'Canada', 'Kenya']\n"
          ]
        }
      ]
    },
    {
      "cell_type": "code",
      "source": [
        "Travel.sort()\n",
        "print(Travel)"
      ],
      "metadata": {
        "colab": {
          "base_uri": "https://localhost:8080/"
        },
        "id": "QHMm4x3ZA0sS",
        "outputId": "106421cd-6c42-4e20-a871-0e49bd70ea7e"
      },
      "execution_count": 143,
      "outputs": [
        {
          "output_type": "stream",
          "name": "stdout",
          "text": [
            "['Belgium', 'Canada', 'Congo', 'France', 'Kenya']\n"
          ]
        }
      ]
    },
    {
      "cell_type": "code",
      "source": [
        "Travel.sort(reverse=True)\n",
        "print(Travel)"
      ],
      "metadata": {
        "colab": {
          "base_uri": "https://localhost:8080/"
        },
        "id": "mPwRl7-qBEwL",
        "outputId": "18e76f8f-7e63-4888-d37a-b80380460180"
      },
      "execution_count": 145,
      "outputs": [
        {
          "output_type": "stream",
          "name": "stdout",
          "text": [
            "['Kenya', 'France', 'Congo', 'Canada', 'Belgium']\n"
          ]
        }
      ]
    }
  ]
}