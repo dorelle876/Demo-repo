{
  "nbformat": 4,
  "nbformat_minor": 0,
  "metadata": {
    "colab": {
      "name": "Dorelle of 2-5 Conditional operators Assignment 4.ipynb",
      "provenance": [],
      "include_colab_link": true
    },
    "kernelspec": {
      "name": "python3",
      "display_name": "Python 3"
    },
    "language_info": {
      "name": "python"
    }
  },
  "cells": [
    {
      "cell_type": "markdown",
      "metadata": {
        "id": "view-in-github",
        "colab_type": "text"
      },
      "source": [
        "<a href=\"https://colab.research.google.com/github/dorelle876/Demo-repo/blob/main/Dorelle_of_2_5_Conditional_operators_Assignment_4.ipynb\" target=\"_parent\"><img src=\"https://colab.research.google.com/assets/colab-badge.svg\" alt=\"Open In Colab\"/></a>"
      ]
    },
    {
      "cell_type": "markdown",
      "source": [
        "##2-5 Conditional operators and if statements\n"
      ],
      "metadata": {
        "id": "JJNI2qrwqgYB"
      }
    },
    {
      "cell_type": "markdown",
      "source": [
        "## Task 1: Admin user names\n",
        "* Make a list of 5 or more usernames, including an admin account. Imagine you are writing code that will welcome people to your application on login. Loop through the list and print your greeting.\n",
        "* If the admin account logs in, give them a special greeting.  They’re the admin, after all!\n",
        "* Other users can get the generic greeting"
      ],
      "metadata": {
        "id": "mXe7c59GqpEX"
      }
    },
    {
      "cell_type": "code",
      "execution_count": null,
      "metadata": {
        "id": "TFOFGzWWqSNV"
      },
      "outputs": [],
      "source": [
        "\n",
        "usernames = ['Admin','Dorelle','Colombe','Christ','Aaron']\n"
      ]
    },
    {
      "cell_type": "code",
      "source": [
        "for names in usernames:\n",
        "  print(names)"
      ],
      "metadata": {
        "id": "j3Hr_Lv7qw0I",
        "colab": {
          "base_uri": "https://localhost:8080/"
        },
        "outputId": "efc8b807-57e3-4a64-bae6-df5594eeabdb"
      },
      "execution_count": null,
      "outputs": [
        {
          "output_type": "stream",
          "name": "stdout",
          "text": [
            "Admin\n",
            "Dorelle\n",
            "Colombe\n",
            "Christ\n",
            "Aaron\n"
          ]
        }
      ]
    },
    {
      "cell_type": "code",
      "source": [
        "for names in usernames:\n",
        "  print(names + ' welcome to my application on login.')"
      ],
      "metadata": {
        "id": "OI5G7XhaqxKD",
        "colab": {
          "base_uri": "https://localhost:8080/"
        },
        "outputId": "f7e8946a-e50a-418a-d606-bb8ecbcf3991"
      },
      "execution_count": null,
      "outputs": [
        {
          "output_type": "stream",
          "name": "stdout",
          "text": [
            "Admin welcome to my application on login.\n",
            "Dorelle welcome to my application on login.\n",
            "Colombe welcome to my application on login.\n",
            "Christ welcome to my application on login.\n",
            "Aaron welcome to my application on login.\n"
          ]
        }
      ]
    },
    {
      "cell_type": "code",
      "source": [
        "for names in  usernames:\n",
        "  if names == 'Admin':\n",
        "    print(\"They're the admin, after all!\" )\n",
        "\n",
        "  else:\n",
        "    print(\"Hello\" + \" , names + thank you for logging in!\")\n"
      ],
      "metadata": {
        "id": "TVQL3gzLq39k",
        "colab": {
          "base_uri": "https://localhost:8080/"
        },
        "outputId": "5aa1eb87-6320-480e-fdea-d17b964c8199"
      },
      "execution_count": null,
      "outputs": [
        {
          "output_type": "stream",
          "name": "stdout",
          "text": [
            "They're the admin, after all!\n",
            "Hello , names + thank you for logging in!\n",
            "Hello , names + thank you for logging in!\n",
            "Hello , names + thank you for logging in!\n",
            "Hello , names + thank you for logging in!\n"
          ]
        }
      ]
    },
    {
      "cell_type": "code",
      "source": [
        ""
      ],
      "metadata": {
        "id": "eAG0F5X3q4K_",
        "colab": {
          "base_uri": "https://localhost:8080/"
        },
        "outputId": "4aac1e58-48a2-4492-d51e-f0696748e523"
      },
      "execution_count": null,
      "outputs": [
        {
          "output_type": "stream",
          "name": "stdout",
          "text": [
            "They can get generic greeting Hello!\n"
          ]
        }
      ]
    },
    {
      "cell_type": "markdown",
      "source": [
        "##Task 2: Numbers\n",
        "\n",
        "* Store numbers 1-10 in a list\n",
        "* Loop through the list\n",
        "* Use an if-elif-else chain inside your loop to print the ordinal ending for each number – for example – 1st, 2nd, 3rd … etc."
      ],
      "metadata": {
        "id": "g3nnh2NJq9gY"
      }
    },
    {
      "cell_type": "code",
      "source": [
        "for num in range(1,11):\n",
        "  print(num)"
      ],
      "metadata": {
        "id": "DwBbjFgTrWps",
        "colab": {
          "base_uri": "https://localhost:8080/"
        },
        "outputId": "217f9b91-6c4a-465c-8057-05da15b30ff8"
      },
      "execution_count": null,
      "outputs": [
        {
          "output_type": "stream",
          "name": "stdout",
          "text": [
            "1\n",
            "2\n",
            "3\n",
            "4\n",
            "5\n",
            "6\n",
            "7\n",
            "8\n",
            "9\n",
            "10\n"
          ]
        }
      ]
    },
    {
      "cell_type": "code",
      "source": [
        "\n",
        "numbers = list(range(1,11))\n",
        "\n",
        "for number in numbers:\n",
        "    if number == 1:\n",
        "        print(\"1st\")\n",
        "    elif number == 2:\n",
        "        print(\"2nd\")\n",
        "    elif number == 3:\n",
        "        print(\"3rd\")\n",
        "    else:\n",
        "        print(str(number) + \"th\") "
      ],
      "metadata": {
        "id": "hlU__zZFrXAV",
        "colab": {
          "base_uri": "https://localhost:8080/"
        },
        "outputId": "611eb120-c727-4024-d803-69f1ad348310"
      },
      "execution_count": null,
      "outputs": [
        {
          "output_type": "stream",
          "name": "stdout",
          "text": [
            "1st\n",
            "2nd\n",
            "3rd\n",
            "4th\n",
            "5th\n",
            "6th\n",
            "7th\n",
            "8th\n",
            "9th\n",
            "10th\n"
          ]
        }
      ]
    },
    {
      "cell_type": "code",
      "source": [
        ""
      ],
      "metadata": {
        "id": "UwohuUMIrXKR"
      },
      "execution_count": null,
      "outputs": []
    }
  ]
}