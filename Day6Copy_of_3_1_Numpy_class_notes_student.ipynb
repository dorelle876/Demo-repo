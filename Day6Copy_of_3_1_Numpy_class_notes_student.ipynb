{
  "nbformat": 4,
  "nbformat_minor": 0,
  "metadata": {
    "colab": {
      "name": "Day6Copy of 3-1 Numpy class notes  student.ipynb",
      "provenance": [],
      "collapsed_sections": [],
      "include_colab_link": true
    },
    "kernelspec": {
      "name": "python3",
      "display_name": "Python 3"
    },
    "language_info": {
      "name": "python"
    }
  },
  "cells": [
    {
      "cell_type": "markdown",
      "metadata": {
        "id": "view-in-github",
        "colab_type": "text"
      },
      "source": [
        "<a href=\"https://colab.research.google.com/github/dorelle876/Demo-repo/blob/main/Day6Copy_of_3_1_Numpy_class_notes_student.ipynb\" target=\"_parent\"><img src=\"https://colab.research.google.com/assets/colab-badge.svg\" alt=\"Open In Colab\"/></a>"
      ]
    },
    {
      "cell_type": "markdown",
      "source": [
        "#Numpy\n",
        "\n",
        "* NumPy Fundamentals\n",
        "* Basic operations \n",
        "* Accessing elements \n",
        "* Indexing techniques\n",
        "* Creating copy and view\n",
        "* Broadcasting techniques\n",
        "* Linear Algebra\n"
      ],
      "metadata": {
        "id": "9QiXj-hBWSsJ"
      }
    },
    {
      "cell_type": "code",
      "source": [
        "# must import numpy to access the library and its functions\n",
        "# frequently abbreviated as np\n",
        "import numpy as np "
      ],
      "metadata": {
        "id": "zqredNKbgakJ"
      },
      "execution_count": 1,
      "outputs": []
    },
    {
      "cell_type": "code",
      "execution_count": 2,
      "metadata": {
        "id": "qBmNg_j_WPDb",
        "colab": {
          "base_uri": "https://localhost:8080/"
        },
        "outputId": "005c8123-337a-46ee-8438-f12d32e17741"
      },
      "outputs": [
        {
          "output_type": "stream",
          "name": "stdout",
          "text": [
            "[1 2 3 4 5 6]\n"
          ]
        }
      ],
      "source": [
        "#creating an array called a and storing 6 integers in it\n",
        "#use the np.array() function\n",
        "a = np.array([1, 2, 3, 4, 5, 6])\n",
        "\n",
        "print(a)"
      ]
    },
    {
      "cell_type": "markdown",
      "source": [
        "##Attributes of an array"
      ],
      "metadata": {
        "id": "3eOPBJK9h-TT"
      }
    },
    {
      "cell_type": "code",
      "source": [
        "\n",
        "print(a.ndim) #.ndim returns the number of dimensions (axes) of an array\n",
        "print(a.shape) #.shape returns a tuple showing the size of the array in each dimension\n",
        "print(a.size) #.size returns the total number of elements in the array (dimXshape)\n",
        "print(a.dtype) #.dtype returns data type of elements in the array\n"
      ],
      "metadata": {
        "id": "jNYaubhfg6hK",
        "colab": {
          "base_uri": "https://localhost:8080/"
        },
        "outputId": "d8ad44ce-bbbe-41e0-9ac5-f9ddc002eb73"
      },
      "execution_count": 3,
      "outputs": [
        {
          "output_type": "stream",
          "name": "stdout",
          "text": [
            "1\n",
            "(6,)\n",
            "6\n",
            "int64\n"
          ]
        }
      ]
    },
    {
      "cell_type": "code",
      "source": [
        "#These are the exact same code, but the second one has line breaks to show the array better\n",
        "b = np.array([[1, 2, 3, 4], [5, 6, 7, 8], [9, 10, 11, 12]])\n",
        "\n",
        "\n",
        "b = np.array(\n",
        "    [[1, 2, 3, 4], \n",
        "     [5, 6, 7, 8], \n",
        "     [9, 10, 11, 12]])"
      ],
      "metadata": {
        "id": "IAvw5KOtigy_"
      },
      "execution_count": 4,
      "outputs": []
    },
    {
      "cell_type": "code",
      "source": [
        "print(b.ndim) #.ndim returns the number of dimensions (axes) of an array\n",
        "print(b.shape) #.shape returns a tuple showing the size of the array in each dimension\n",
        "print(b.size) #.size returns the total number of elements in the array\n",
        "print(b.dtype)"
      ],
      "metadata": {
        "id": "8xTOF8q6ikT2",
        "colab": {
          "base_uri": "https://localhost:8080/"
        },
        "outputId": "2c6a67ab-0720-4a7b-a27a-30220191fcb8"
      },
      "execution_count": 5,
      "outputs": [
        {
          "output_type": "stream",
          "name": "stdout",
          "text": [
            "2\n",
            "(3, 4)\n",
            "12\n",
            "int64\n"
          ]
        }
      ]
    },
    {
      "cell_type": "markdown",
      "source": [
        "## Arrays can also include characters"
      ],
      "metadata": {
        "id": "A2Cp4zDAiB4I"
      }
    },
    {
      "cell_type": "code",
      "source": [
        "np_city = np.array(['NYC', 'LA', 'Miami', 'Houston'])\n",
        "np_city_with_state = np.array([['NYC', 'LA', 'Miami', 'Houston'], ['NY', 'CA', 'FL','TX']])\n",
        "\n",
        "print(np_city)\n",
        "print('\\n')\n",
        "print(np_city_with_state)"
      ],
      "metadata": {
        "id": "E51xDRJSiGIW",
        "colab": {
          "base_uri": "https://localhost:8080/"
        },
        "outputId": "e81b9179-087f-4ef1-eecb-be682eee14c8"
      },
      "execution_count": 6,
      "outputs": [
        {
          "output_type": "stream",
          "name": "stdout",
          "text": [
            "['NYC' 'LA' 'Miami' 'Houston']\n",
            "\n",
            "\n",
            "[['NYC' 'LA' 'Miami' 'Houston']\n",
            " ['NY' 'CA' 'FL' 'TX']]\n"
          ]
        }
      ]
    },
    {
      "cell_type": "code",
      "source": [
        "#look at number of dimensions\n",
        "print(np_city.ndim)\n",
        "print(np_city_with_state.ndim)"
      ],
      "metadata": {
        "id": "0rHoxOeBj0KW",
        "colab": {
          "base_uri": "https://localhost:8080/"
        },
        "outputId": "87c4dd60-24cf-4849-8065-27f02f9015c7"
      },
      "execution_count": 7,
      "outputs": [
        {
          "output_type": "stream",
          "name": "stdout",
          "text": [
            "1\n",
            "2\n"
          ]
        }
      ]
    },
    {
      "cell_type": "code",
      "source": [
        "#look at shape\n",
        "print(np_city.shape)\n",
        "print(np_city_with_state.shape)"
      ],
      "metadata": {
        "id": "h4MF6VRSlFeD",
        "colab": {
          "base_uri": "https://localhost:8080/"
        },
        "outputId": "1f57dd54-ee72-41ad-d617-22de2f4329f9"
      },
      "execution_count": 8,
      "outputs": [
        {
          "output_type": "stream",
          "name": "stdout",
          "text": [
            "(4,)\n",
            "(2, 4)\n"
          ]
        }
      ]
    },
    {
      "cell_type": "code",
      "source": [
        "#look at size\n",
        "print(np_city.size)\n",
        "print(np_city_with_state.size)"
      ],
      "metadata": {
        "id": "DSYLftIal9u1",
        "colab": {
          "base_uri": "https://localhost:8080/"
        },
        "outputId": "36c176d5-c5a9-4eae-f014-f69a0878ca52"
      },
      "execution_count": 9,
      "outputs": [
        {
          "output_type": "stream",
          "name": "stdout",
          "text": [
            "4\n",
            "8\n"
          ]
        }
      ]
    },
    {
      "cell_type": "code",
      "source": [
        "#look at data type\n",
        "print(np_city.dtype)\n",
        "print(np_city_with_state.dtype) \n",
        "#strings with max of 7 characters"
      ],
      "metadata": {
        "id": "SsttV4mxmN_R",
        "colab": {
          "base_uri": "https://localhost:8080/"
        },
        "outputId": "532d966b-fbb4-4988-f57a-223e9f96d97a"
      },
      "execution_count": 10,
      "outputs": [
        {
          "output_type": "stream",
          "name": "stdout",
          "text": [
            "<U7\n",
            "<U7\n"
          ]
        }
      ]
    },
    {
      "cell_type": "markdown",
      "source": [
        "#YOUR TURN 1\n",
        "\n",
        "* Create an array with one row and 10 numbers"
      ],
      "metadata": {
        "id": "k9K-Cvnm0xpW"
      }
    },
    {
      "cell_type": "code",
      "source": [
        "a = np.array ([1,2,3,4,5,6,7,8,9,10])\n",
        "print(a)"
      ],
      "metadata": {
        "id": "ehWpPjqy1F7Z",
        "colab": {
          "base_uri": "https://localhost:8080/"
        },
        "outputId": "bb49d6d9-af3f-477d-bcc2-910c9d7876da"
      },
      "execution_count": 12,
      "outputs": [
        {
          "output_type": "stream",
          "name": "stdout",
          "text": [
            "[ 1  2  3  4  5  6  7  8  9 10]\n"
          ]
        }
      ]
    },
    {
      "cell_type": "markdown",
      "source": [
        "* Print the dimension, shape, size and data type for your array."
      ],
      "metadata": {
        "id": "lQs76GMr1hOE"
      }
    },
    {
      "cell_type": "code",
      "source": [
        "print(a.ndim)\n",
        "print(a.shape)\n",
        "print(a.size)\n",
        "print(a.dtype)"
      ],
      "metadata": {
        "id": "Wej3MeeE1oTe",
        "colab": {
          "base_uri": "https://localhost:8080/"
        },
        "outputId": "2da14ab2-16ae-451e-dde5-2be5a4873dd4"
      },
      "execution_count": 16,
      "outputs": [
        {
          "output_type": "stream",
          "name": "stdout",
          "text": [
            "1\n",
            "(10,)\n",
            "10\n",
            "int64\n"
          ]
        }
      ]
    },
    {
      "cell_type": "markdown",
      "source": [
        "* Create an array wtih two rows and three words in each row.\n"
      ],
      "metadata": {
        "id": "uSoVOK6o1K5k"
      }
    },
    {
      "cell_type": "code",
      "source": [
        "np.array([[\"name\",\"friend\",\"honest\"],[\"run\",\"eat\",\"sleep\"]])\n",
        "b = np.array([[\"name\",\"friend\",\"honest\"],[\"run\",\"eat\",\"sleep\"]])\n",
        "\n"
      ],
      "metadata": {
        "id": "jt-Mzj141GZ8"
      },
      "execution_count": 25,
      "outputs": []
    },
    {
      "cell_type": "markdown",
      "source": [
        "* Print the dimension, shape, size and data type for your array."
      ],
      "metadata": {
        "id": "voCpI14i1R12"
      }
    },
    {
      "cell_type": "code",
      "source": [
        "print(b.ndim)\n",
        "print(b.shape)\n",
        "print(b.size)\n",
        "print(b.dtype)"
      ],
      "metadata": {
        "id": "Ls2Mjjei1HYX",
        "colab": {
          "base_uri": "https://localhost:8080/"
        },
        "outputId": "5f13562b-332b-41be-b544-9b60d558b105"
      },
      "execution_count": 29,
      "outputs": [
        {
          "output_type": "stream",
          "name": "stdout",
          "text": [
            "2\n",
            "(2, 3)\n",
            "6\n",
            "<U6\n"
          ]
        }
      ]
    },
    {
      "cell_type": "markdown",
      "source": [
        "##Basic operations on arrays\n",
        "\n"
      ],
      "metadata": {
        "id": "DpWuNWNYnkYT"
      }
    },
    {
      "cell_type": "markdown",
      "source": [
        "#### Addition\n",
        "NumPy uses the indices of the elements in each array to carry out basic operations. In this case, where we are looking at a dataset of four cyclists during two trials, vector addition of the arrays gives the required output.\n"
      ],
      "metadata": {
        "id": "WT9UcqGmn84r"
      }
    },
    {
      "cell_type": "code",
      "source": [
        "#create two listss with the cyclist distances\n",
        "\n",
        "trial_1 = [10,15,17,26] \n",
        "trial_2 = [12,11,21,24] \n",
        "\n",
        "#convert lists to numpy arrays\n",
        "\n",
        "np_trial_1 = np.array(trial_1)\n",
        "np_trial_2 = np.array(trial_2)"
      ],
      "metadata": {
        "id": "les2I0QLmzpk"
      },
      "execution_count": 30,
      "outputs": []
    },
    {
      "cell_type": "code",
      "source": [
        "#use array addition to add the elements of each array\n",
        "\n",
        "np_trial_1 + np_trial_2\n"
      ],
      "metadata": {
        "id": "P4sgYjEOpeZ6",
        "colab": {
          "base_uri": "https://localhost:8080/"
        },
        "outputId": "2d004081-ead4-4bec-bd81-5b35802131fd"
      },
      "execution_count": 31,
      "outputs": [
        {
          "output_type": "execute_result",
          "data": {
            "text/plain": [
              "array([22, 26, 38, 50])"
            ]
          },
          "metadata": {},
          "execution_count": 31
        }
      ]
    },
    {
      "cell_type": "markdown",
      "source": [
        "#YOUR TURN 2\n",
        "\n",
        "Use the provided arrays to perform simple array operations."
      ],
      "metadata": {
        "id": "gHUhXqga11qm"
      }
    },
    {
      "cell_type": "code",
      "source": [
        "#Provided arrays\n",
        "a = np.array([6,11,12,14]) \n",
        "b = np.array([24,15,7,19])"
      ],
      "metadata": {
        "id": "-tn6ZiQa3Pa5"
      },
      "execution_count": null,
      "outputs": []
    },
    {
      "cell_type": "code",
      "source": [
        "np.array(a) + np.array(b)"
      ],
      "metadata": {
        "colab": {
          "base_uri": "https://localhost:8080/"
        },
        "id": "8z4rwmkgGIwu",
        "outputId": "25298996-ceb1-487a-c559-bfb97bf9bf9b"
      },
      "execution_count": 42,
      "outputs": [
        {
          "output_type": "execute_result",
          "data": {
            "text/plain": [
              "array([30, 26, 19, 33])"
            ]
          },
          "metadata": {},
          "execution_count": 42
        }
      ]
    },
    {
      "cell_type": "markdown",
      "source": [
        "Array a plus array b"
      ],
      "metadata": {
        "id": "1kmtTEoz3wKU"
      }
    },
    {
      "cell_type": "code",
      "source": [
        "np.array([6,11,12,14]) + np.array([24,15,7,19])"
      ],
      "metadata": {
        "id": "mlsFX5R-3PpO",
        "colab": {
          "base_uri": "https://localhost:8080/"
        },
        "outputId": "f269359d-4bf7-469b-fd41-3f13172d6656"
      },
      "execution_count": 34,
      "outputs": [
        {
          "output_type": "execute_result",
          "data": {
            "text/plain": [
              "array([30, 26, 19, 33])"
            ]
          },
          "metadata": {},
          "execution_count": 34
        }
      ]
    },
    {
      "cell_type": "markdown",
      "source": [
        "Array a minus array b\n",
        "and array b minus array a"
      ],
      "metadata": {
        "id": "9OfJpoLi30Dr"
      }
    },
    {
      "cell_type": "code",
      "source": [
        "np.array([6,11,12,14]) - np.array([24,15,7,19])"
      ],
      "metadata": {
        "id": "ox3vv-tE3p7t",
        "colab": {
          "base_uri": "https://localhost:8080/"
        },
        "outputId": "7f934542-e8cd-4501-eaac-9703c0d9eb79"
      },
      "execution_count": 35,
      "outputs": [
        {
          "output_type": "execute_result",
          "data": {
            "text/plain": [
              "array([-18,  -4,   5,  -5])"
            ]
          },
          "metadata": {},
          "execution_count": 35
        }
      ]
    },
    {
      "cell_type": "code",
      "source": [
        "np.array(a) - np.array(b)"
      ],
      "metadata": {
        "colab": {
          "base_uri": "https://localhost:8080/"
        },
        "id": "CVyZpZdGGUze",
        "outputId": "8b227279-e59f-475e-9137-d501d212caee"
      },
      "execution_count": 43,
      "outputs": [
        {
          "output_type": "execute_result",
          "data": {
            "text/plain": [
              "array([-18,  -4,   5,  -5])"
            ]
          },
          "metadata": {},
          "execution_count": 43
        }
      ]
    },
    {
      "cell_type": "markdown",
      "source": [
        "Array a mulitplied by array b"
      ],
      "metadata": {
        "id": "Z29-xLo437MD"
      }
    },
    {
      "cell_type": "code",
      "source": [
        "np.array([6,11,12,14]) * np.array([24,15,7,19])"
      ],
      "metadata": {
        "id": "g4z5EQLW3t5-",
        "colab": {
          "base_uri": "https://localhost:8080/"
        },
        "outputId": "5ddb48fd-9324-42ab-f5f3-ef98c877cecc"
      },
      "execution_count": 36,
      "outputs": [
        {
          "output_type": "execute_result",
          "data": {
            "text/plain": [
              "array([144, 165,  84, 266])"
            ]
          },
          "metadata": {},
          "execution_count": 36
        }
      ]
    },
    {
      "cell_type": "code",
      "source": [
        "np.array(a) * np.array(b)"
      ],
      "metadata": {
        "colab": {
          "base_uri": "https://localhost:8080/"
        },
        "id": "ptTpaq50GXa9",
        "outputId": "2ffffa75-7c96-4cf9-cb90-2a53fe23b7dc"
      },
      "execution_count": 44,
      "outputs": [
        {
          "output_type": "execute_result",
          "data": {
            "text/plain": [
              "array([144, 165,  84, 266])"
            ]
          },
          "metadata": {},
          "execution_count": 44
        }
      ]
    },
    {
      "cell_type": "markdown",
      "source": [
        "What do you notice about how these operations work? How does this differ from operations with python lists?"
      ],
      "metadata": {
        "id": "XZ_EhGwr4azd"
      }
    },
    {
      "cell_type": "code",
      "source": [
        "a = [6,11,12,14]\n",
        "b = [24,15,7,19]\n",
        "a + b"
      ],
      "metadata": {
        "colab": {
          "base_uri": "https://localhost:8080/"
        },
        "id": "7z3i00VNE1M0",
        "outputId": "d887db5a-2074-4e0c-ba16-f3e1ef0b8c3f"
      },
      "execution_count": 40,
      "outputs": [
        {
          "output_type": "execute_result",
          "data": {
            "text/plain": [
              "[6, 11, 12, 14, 24, 15, 7, 19]"
            ]
          },
          "metadata": {},
          "execution_count": 40
        }
      ]
    },
    {
      "cell_type": "markdown",
      "source": [
        "In conclusion python list combine the two lists when it comes for addition"
      ],
      "metadata": {
        "id": "ZQukAMJtFe-v"
      }
    },
    {
      "cell_type": "markdown",
      "source": [
        "enter answer here"
      ],
      "metadata": {
        "id": "9F9RIuIt4pdn"
      }
    },
    {
      "cell_type": "markdown",
      "source": [
        "##Accessing elements using indexing\n",
        "\n",
        "You can access an entire row of an array by referencing its axis index. The index starts at 0\n",
        "\n",
        "> Indented block\n",
        "\n",
        "\n"
      ],
      "metadata": {
        "id": "3ltU-Einqix-"
      }
    },
    {
      "cell_type": "code",
      "source": [
        "cyclist_trials = np.array([[10,15,17,26], [12,11,21,24]]) #creates 2-d array from cyclist trial data\n",
        "\n",
        "cyclist_trials"
      ],
      "metadata": {
        "id": "xlE3kE8OqSGL",
        "colab": {
          "base_uri": "https://localhost:8080/"
        },
        "outputId": "d29d0dc9-c326-44a4-cfea-18ba30371b94"
      },
      "execution_count": 45,
      "outputs": [
        {
          "output_type": "execute_result",
          "data": {
            "text/plain": [
              "array([[10, 15, 17, 26],\n",
              "       [12, 11, 21, 24]])"
            ]
          },
          "metadata": {},
          "execution_count": 45
        }
      ]
    },
    {
      "cell_type": "code",
      "source": [
        "#access first row\n",
        "first_trial = cyclist_trials[0]\n",
        "\n",
        "#access second row\n",
        "second_trial = cyclist_trials[1]"
      ],
      "metadata": {
        "id": "6bdB7wfrrB0u"
      },
      "execution_count": 46,
      "outputs": []
    },
    {
      "cell_type": "code",
      "source": [
        "first_trial"
      ],
      "metadata": {
        "id": "p_9yQXUZrj0N",
        "colab": {
          "base_uri": "https://localhost:8080/"
        },
        "outputId": "b3eec144-a7da-4773-c6e8-125729ccb4f2"
      },
      "execution_count": 47,
      "outputs": [
        {
          "output_type": "execute_result",
          "data": {
            "text/plain": [
              "array([10, 15, 17, 26])"
            ]
          },
          "metadata": {},
          "execution_count": 47
        }
      ]
    },
    {
      "cell_type": "code",
      "source": [
        "second_trial"
      ],
      "metadata": {
        "id": "eGdZ8_Y9rrtf",
        "colab": {
          "base_uri": "https://localhost:8080/"
        },
        "outputId": "1c4262e0-c6b9-4caa-a10b-01c2949c0a3d"
      },
      "execution_count": 48,
      "outputs": [
        {
          "output_type": "execute_result",
          "data": {
            "text/plain": [
              "array([12, 11, 21, 24])"
            ]
          },
          "metadata": {},
          "execution_count": 48
        }
      ]
    },
    {
      "cell_type": "code",
      "source": [
        "#selecting individual elements using index on two axes\n",
        "\n",
        "print(cyclist_trials[0][0]) # first row, first element\n",
        "print(cyclist_trials[1][3]) # second row, fourth element"
      ],
      "metadata": {
        "id": "lqCqkRhdr8N2",
        "colab": {
          "base_uri": "https://localhost:8080/"
        },
        "outputId": "eb85a128-44f1-408d-fe35-95369620a5e3"
      },
      "execution_count": 50,
      "outputs": [
        {
          "output_type": "stream",
          "name": "stdout",
          "text": [
            "10\n",
            "24\n"
          ]
        }
      ]
    },
    {
      "cell_type": "code",
      "source": [
        "#select all rows of an array, first element of each row using :\n",
        "\n",
        "cyclist_trials[:,0]\n",
        "cyclist_trials[:,2]\n",
        "\n"
      ],
      "metadata": {
        "id": "14QQcijrsUtB",
        "colab": {
          "base_uri": "https://localhost:8080/"
        },
        "outputId": "f4f7fd2d-665b-4bbf-8d5e-df8508da111f"
      },
      "execution_count": 52,
      "outputs": [
        {
          "output_type": "execute_result",
          "data": {
            "text/plain": [
              "array([17, 21])"
            ]
          },
          "metadata": {},
          "execution_count": 52
        }
      ]
    },
    {
      "cell_type": "code",
      "source": [
        "#you can also use the where() function to find the index position of a value\n",
        "\n",
        "np.where(cyclist_trials == 17)"
      ],
      "metadata": {
        "id": "xSbZGpIULwMX",
        "colab": {
          "base_uri": "https://localhost:8080/"
        },
        "outputId": "0c9013d2-f1c6-4971-8842-b5b0872085b2"
      },
      "execution_count": 53,
      "outputs": [
        {
          "output_type": "execute_result",
          "data": {
            "text/plain": [
              "(array([0]), array([2]))"
            ]
          },
          "metadata": {},
          "execution_count": 53
        }
      ]
    },
    {
      "cell_type": "markdown",
      "source": [
        "#YOUR TURN 3\n",
        "\n",
        "Create a new array with of integers with three rows of four elements each. Use the index to do the following:"
      ],
      "metadata": {
        "id": "RWWhVONY5FkA"
      }
    },
    {
      "cell_type": "code",
      "source": [
        "np.array([[1,2,3,4],[2,3,4,5],[3,4,5,6]])\n",
        "x = np.array([[1,2,3,4],[2,3,4,5],[3,4,5,6]])"
      ],
      "metadata": {
        "id": "wmrzXS-Z5va2"
      },
      "execution_count": 54,
      "outputs": []
    },
    {
      "cell_type": "markdown",
      "source": [
        "* Access the first row of your array.\n"
      ],
      "metadata": {
        "id": "1hoSnQGF6KdC"
      }
    },
    {
      "cell_type": "code",
      "source": [
        "first_row = x[0]\n",
        "first_row"
      ],
      "metadata": {
        "id": "z85zFeei5v_s",
        "colab": {
          "base_uri": "https://localhost:8080/"
        },
        "outputId": "26c2eb1c-006c-4037-892d-d12f7838cf1a"
      },
      "execution_count": 56,
      "outputs": [
        {
          "output_type": "execute_result",
          "data": {
            "text/plain": [
              "array([1, 2, 3, 4])"
            ]
          },
          "metadata": {},
          "execution_count": 56
        }
      ]
    },
    {
      "cell_type": "markdown",
      "source": [
        "* Access the third row of your array."
      ],
      "metadata": {
        "id": "4balFmXf6QNK"
      }
    },
    {
      "cell_type": "code",
      "source": [
        "third_row = x[2]\n",
        "third_row"
      ],
      "metadata": {
        "id": "BBF7LlYJ6UoX",
        "colab": {
          "base_uri": "https://localhost:8080/"
        },
        "outputId": "22c51aea-7f05-430e-a1bd-93a3cdee3a97"
      },
      "execution_count": 57,
      "outputs": [
        {
          "output_type": "execute_result",
          "data": {
            "text/plain": [
              "array([3, 4, 5, 6])"
            ]
          },
          "metadata": {},
          "execution_count": 57
        }
      ]
    },
    {
      "cell_type": "markdown",
      "source": [
        "* Access the second row, third element of your array."
      ],
      "metadata": {
        "id": "_zCPNfSU6Va8"
      }
    },
    {
      "cell_type": "code",
      "source": [
        "second_row = x[1]\n",
        "second_row "
      ],
      "metadata": {
        "id": "NoVHEaGJ5wJF",
        "colab": {
          "base_uri": "https://localhost:8080/"
        },
        "outputId": "5875a6f3-c43b-4f2b-d235-51b4fd7e6253"
      },
      "execution_count": 58,
      "outputs": [
        {
          "output_type": "execute_result",
          "data": {
            "text/plain": [
              "array([2, 3, 4, 5])"
            ]
          },
          "metadata": {},
          "execution_count": 58
        }
      ]
    },
    {
      "cell_type": "markdown",
      "source": [
        "* Access the fourth element of each row of your array."
      ],
      "metadata": {
        "id": "SC1ofAxz6ZSf"
      }
    },
    {
      "cell_type": "code",
      "source": [
        "# we only have three rows this should give us an error term\n",
        "fourth_row = x[3]\n",
        "fourth_row "
      ],
      "metadata": {
        "id": "si-r6Hei5wS_",
        "colab": {
          "base_uri": "https://localhost:8080/",
          "height": 201
        },
        "outputId": "bd18bc98-d3b0-4b0c-a86c-91d89ef8e54e"
      },
      "execution_count": 60,
      "outputs": [
        {
          "output_type": "error",
          "ename": "IndexError",
          "evalue": "ignored",
          "traceback": [
            "\u001b[0;31m---------------------------------------------------------------------------\u001b[0m",
            "\u001b[0;31mIndexError\u001b[0m                                Traceback (most recent call last)",
            "\u001b[0;32m<ipython-input-60-5fa211a83536>\u001b[0m in \u001b[0;36m<module>\u001b[0;34m()\u001b[0m\n\u001b[1;32m      1\u001b[0m \u001b[0;31m# we only have three rows this should give us an error term\u001b[0m\u001b[0;34m\u001b[0m\u001b[0;34m\u001b[0m\u001b[0;34m\u001b[0m\u001b[0m\n\u001b[0;32m----> 2\u001b[0;31m \u001b[0mfourth_row\u001b[0m \u001b[0;34m=\u001b[0m \u001b[0mx\u001b[0m\u001b[0;34m[\u001b[0m\u001b[0;36m3\u001b[0m\u001b[0;34m]\u001b[0m\u001b[0;34m\u001b[0m\u001b[0;34m\u001b[0m\u001b[0m\n\u001b[0m\u001b[1;32m      3\u001b[0m \u001b[0mfourth_row\u001b[0m\u001b[0;34m\u001b[0m\u001b[0;34m\u001b[0m\u001b[0m\n",
            "\u001b[0;31mIndexError\u001b[0m: index 3 is out of bounds for axis 0 with size 3"
          ]
        }
      ]
    },
    {
      "cell_type": "code",
      "source": [
        "print(x[:,3])"
      ],
      "metadata": {
        "colab": {
          "base_uri": "https://localhost:8080/"
        },
        "id": "BhQoi-daSJ3V",
        "outputId": "5a9eb019-50b7-4403-e086-7837b933e0c6"
      },
      "execution_count": 62,
      "outputs": [
        {
          "output_type": "stream",
          "name": "stdout",
          "text": [
            "[4 5 6]\n"
          ]
        }
      ]
    },
    {
      "cell_type": "markdown",
      "source": [
        "##Indexing with boolean arrays"
      ],
      "metadata": {
        "id": "DSBdy15AtdTE"
      }
    },
    {
      "cell_type": "code",
      "source": [
        "test_scores = np.array([[83,71,57,63], [54,68,81,45]])\n",
        "\n",
        "test_scores"
      ],
      "metadata": {
        "id": "9ec-JVx5tgiW",
        "colab": {
          "base_uri": "https://localhost:8080/"
        },
        "outputId": "7905b0df-d202-4375-d96e-9ee120ecb440"
      },
      "execution_count": 63,
      "outputs": [
        {
          "output_type": "execute_result",
          "data": {
            "text/plain": [
              "array([[83, 71, 57, 63],\n",
              "       [54, 68, 81, 45]])"
            ]
          },
          "metadata": {},
          "execution_count": 63
        }
      ]
    },
    {
      "cell_type": "code",
      "source": [
        "passing_score = test_scores > 60"
      ],
      "metadata": {
        "id": "w-tjIRnOt8DU"
      },
      "execution_count": 64,
      "outputs": []
    },
    {
      "cell_type": "code",
      "source": [
        "passing_score"
      ],
      "metadata": {
        "id": "nSYR6lJluD7i",
        "colab": {
          "base_uri": "https://localhost:8080/"
        },
        "outputId": "c7e78e0d-cff3-4700-aa7b-9db72aa350d1"
      },
      "execution_count": 65,
      "outputs": [
        {
          "output_type": "execute_result",
          "data": {
            "text/plain": [
              "array([[ True,  True, False,  True],\n",
              "       [False,  True,  True, False]])"
            ]
          },
          "metadata": {},
          "execution_count": 65
        }
      ]
    },
    {
      "cell_type": "code",
      "source": [
        "test_scores[passing_score]"
      ],
      "metadata": {
        "id": "GLXIUAatuIS8",
        "colab": {
          "base_uri": "https://localhost:8080/"
        },
        "outputId": "a892e5f4-982c-4505-f042-b2fada7b3bf5"
      },
      "execution_count": 66,
      "outputs": [
        {
          "output_type": "execute_result",
          "data": {
            "text/plain": [
              "array([83, 71, 63, 68, 81])"
            ]
          },
          "metadata": {},
          "execution_count": 66
        }
      ]
    },
    {
      "cell_type": "markdown",
      "source": [
        "##Copies and views\n",
        "\n",
        "When working with arrays, you can assign an array as the same values, view a copy or make a copy. "
      ],
      "metadata": {
        "id": "fC4v3O7nwJjq"
      }
    },
    {
      "cell_type": "markdown",
      "source": [
        "Simple asignment does not create a copy"
      ],
      "metadata": {
        "id": "AMrcD-v6y1uN"
      }
    },
    {
      "cell_type": "code",
      "source": [
        "## new array with boroughs of nyc\n",
        "\n",
        "nyc_borough = np.array(['manhattan', 'bronx', 'brooklyn', 'staten island', 'queens'])\n",
        "           \n",
        "new_nyc_borough = nyc_borough # no new object is created\n",
        "new_nyc_borough is nyc_borough  # these are now two names for the same ndarray object"
      ],
      "metadata": {
        "id": "BGK8b8H_wrRh",
        "colab": {
          "base_uri": "https://localhost:8080/"
        },
        "outputId": "70d1fda4-62a6-4aef-c11b-cb73b8639e00"
      },
      "execution_count": 67,
      "outputs": [
        {
          "output_type": "execute_result",
          "data": {
            "text/plain": [
              "True"
            ]
          },
          "metadata": {},
          "execution_count": 67
        }
      ]
    },
    {
      "cell_type": "code",
      "source": [
        "#if you change one of them you change both\n",
        "\n",
        "nyc_borough[4] = 'central park'\n",
        "\n",
        "print(nyc_borough)\n",
        "print(new_nyc_borough)"
      ],
      "metadata": {
        "id": "ry2yVW3ux3tU",
        "colab": {
          "base_uri": "https://localhost:8080/"
        },
        "outputId": "327d5028-f1e0-4205-93e0-0b111d54601a"
      },
      "execution_count": 68,
      "outputs": [
        {
          "output_type": "stream",
          "name": "stdout",
          "text": [
            "['manhattan' 'bronx' 'brooklyn' 'staten island' 'central park']\n",
            "['manhattan' 'bronx' 'brooklyn' 'staten island' 'central park']\n"
          ]
        }
      ]
    },
    {
      "cell_type": "code",
      "source": [
        "#reset the array to original\n",
        "nyc_borough = np.array(['manhattan', 'bronx', 'brooklyn', 'staten island', 'queens'])\n"
      ],
      "metadata": {
        "id": "IT89-nQMyI9u"
      },
      "execution_count": 69,
      "outputs": []
    },
    {
      "cell_type": "markdown",
      "source": [
        ".view() creates a \"shallow copy,\" or a new array object with the same data. Making changes to either the original or new will also make changes in the other one.\n"
      ],
      "metadata": {
        "id": "AvD6o__CzBY5"
      }
    },
    {
      "cell_type": "code",
      "source": [
        "view_of_nyc_borough = nyc_borough.view() #use .view() function to create a new array\n",
        "\n",
        "view_of_nyc_borough\n"
      ],
      "metadata": {
        "id": "x-jgGPdzxBOC",
        "colab": {
          "base_uri": "https://localhost:8080/"
        },
        "outputId": "e4bc7a7d-49d7-4e00-e510-4e7b06c6d0d9"
      },
      "execution_count": 70,
      "outputs": [
        {
          "output_type": "execute_result",
          "data": {
            "text/plain": [
              "array(['manhattan', 'bronx', 'brooklyn', 'staten island', 'queens'],\n",
              "      dtype='<U13')"
            ]
          },
          "metadata": {},
          "execution_count": 70
        }
      ]
    },
    {
      "cell_type": "code",
      "source": [
        "#when you change the view, you change the original\n",
        "\n",
        "view_of_nyc_borough[4] = 'central park'\n",
        "\n",
        "print(nyc_borough) #print original\n",
        "print(view_of_nyc_borough) #print view\n"
      ],
      "metadata": {
        "id": "dWoDQaQXzOde",
        "colab": {
          "base_uri": "https://localhost:8080/"
        },
        "outputId": "201614f6-7bc3-495a-d640-b8e7be771868"
      },
      "execution_count": 71,
      "outputs": [
        {
          "output_type": "stream",
          "name": "stdout",
          "text": [
            "['manhattan' 'bronx' 'brooklyn' 'staten island' 'central park']\n",
            "['manhattan' 'bronx' 'brooklyn' 'staten island' 'central park']\n"
          ]
        }
      ]
    },
    {
      "cell_type": "code",
      "source": [
        "#or when you change the original you change the view\n",
        "\n",
        "nyc_borough[3] = 'si'\n",
        "\n",
        "print(nyc_borough) #print original\n",
        "print(view_of_nyc_borough) #print view"
      ],
      "metadata": {
        "id": "RWQ4SUPDzRe6",
        "colab": {
          "base_uri": "https://localhost:8080/"
        },
        "outputId": "036ee489-ef24-4c10-fbee-b90f00a3043e"
      },
      "execution_count": 72,
      "outputs": [
        {
          "output_type": "stream",
          "name": "stdout",
          "text": [
            "['manhattan' 'bronx' 'brooklyn' 'si' 'central park']\n",
            "['manhattan' 'bronx' 'brooklyn' 'si' 'central park']\n"
          ]
        }
      ]
    },
    {
      "cell_type": "code",
      "source": [
        "#reset array to the original \n",
        "\n",
        "nyc_borough = np.array(['manhattan', 'bronx', 'brooklyn', 'staten island', 'queens'])\n"
      ],
      "metadata": {
        "id": "yw7bUFT49Yzj"
      },
      "execution_count": 73,
      "outputs": []
    },
    {
      "cell_type": "markdown",
      "source": [
        ".copy() creates a \"deep copy\" or a whole new copy of the data and changes to one copy do not affect the other"
      ],
      "metadata": {
        "id": "rSg1p-hC0IhU"
      }
    },
    {
      "cell_type": "code",
      "source": [
        "#create a copy\n",
        "\n",
        "copy_of_nyc_borough = nyc_borough.copy() \n"
      ],
      "metadata": {
        "id": "6uhah2FQ9Xp6"
      },
      "execution_count": 74,
      "outputs": []
    },
    {
      "cell_type": "code",
      "source": [
        "#change the copy\n",
        "\n",
        "copy_of_nyc_borough[4] = 'central park'"
      ],
      "metadata": {
        "id": "qxQFA_kw9yDh"
      },
      "execution_count": 75,
      "outputs": []
    },
    {
      "cell_type": "code",
      "source": [
        "#the copy has changed but the original remains the same\n",
        "\n",
        "print(nyc_borough) #print original\n",
        "print(copy_of_nyc_borough) #print copy"
      ],
      "metadata": {
        "id": "77R_fNif9-Sn",
        "colab": {
          "base_uri": "https://localhost:8080/"
        },
        "outputId": "eed4b9e7-0a32-4d0d-b02e-b75e8ecbe561"
      },
      "execution_count": 76,
      "outputs": [
        {
          "output_type": "stream",
          "name": "stdout",
          "text": [
            "['manhattan' 'bronx' 'brooklyn' 'staten island' 'queens']\n",
            "['manhattan' 'bronx' 'brooklyn' 'staten island' 'central park']\n"
          ]
        }
      ]
    },
    {
      "cell_type": "markdown",
      "source": [
        "#YOUR TURN 4\n",
        "\n",
        "Create a new array with five text values of your favorite colors. "
      ],
      "metadata": {
        "id": "BIz-WprtD88z"
      }
    },
    {
      "cell_type": "code",
      "source": [
        "favorite_colors = np.array(['red','yellow','green','purple','grey'])\n",
        "\n"
      ],
      "metadata": {
        "id": "P_BBFY5KEJWw"
      },
      "execution_count": 80,
      "outputs": []
    },
    {
      "cell_type": "code",
      "source": [
        ""
      ],
      "metadata": {
        "id": "hUx-x9imfWCp"
      },
      "execution_count": null,
      "outputs": []
    },
    {
      "cell_type": "markdown",
      "source": [
        "* Make a new variable and assign it the value of your original array (simple assignment). Change the second value of the array using the new name. Print the old and new names of the array and see what happened.\n"
      ],
      "metadata": {
        "id": "d8JAsR5LEKwb"
      }
    },
    {
      "cell_type": "code",
      "source": [
        "new_favorite_colors = favorite_colors\n",
        "new_favorite_colors is favorite_colors\n"
      ],
      "metadata": {
        "id": "M_v8wE4-ESNa",
        "colab": {
          "base_uri": "https://localhost:8080/"
        },
        "outputId": "a8a7467f-5a8f-4974-e10f-42c23f25dfb5"
      },
      "execution_count": 93,
      "outputs": [
        {
          "output_type": "execute_result",
          "data": {
            "text/plain": [
              "True"
            ]
          },
          "metadata": {},
          "execution_count": 93
        }
      ]
    },
    {
      "cell_type": "code",
      "source": [
        "print(favorite_colors)\n",
        "print(new_favorite_colors)"
      ],
      "metadata": {
        "id": "IVsrBZuLEdxk",
        "colab": {
          "base_uri": "https://localhost:8080/"
        },
        "outputId": "a2660008-b410-4825-948d-330537b8be1b"
      },
      "execution_count": 83,
      "outputs": [
        {
          "output_type": "stream",
          "name": "stdout",
          "text": [
            "['red' 'yellow' 'green' 'purple' 'grey']\n",
            "['red' 'yellow' 'green' 'purple' 'grey']\n"
          ]
        }
      ]
    },
    {
      "cell_type": "markdown",
      "source": [
        "* Create a view of the original array. Change the second value of the array using the view. Print the old and new names of the array and see what happened."
      ],
      "metadata": {
        "id": "4d4zdLEpEeQS"
      }
    },
    {
      "cell_type": "code",
      "source": [
        "favorite_colors = np.array(['red','yellow','green','purple','grey'])\n",
        "\n"
      ],
      "metadata": {
        "id": "KkqJFoUjEewV"
      },
      "execution_count": 92,
      "outputs": []
    },
    {
      "cell_type": "code",
      "source": [
        "view_of_favorite_colors = favorite_colors.view()\n",
        "view_of_new_favorite_colors"
      ],
      "metadata": {
        "colab": {
          "base_uri": "https://localhost:8080/"
        },
        "id": "mWOAwP5zlT_S",
        "outputId": "1cbd0051-2fac-46aa-8762-cfdba68a3119"
      },
      "execution_count": 98,
      "outputs": [
        {
          "output_type": "execute_result",
          "data": {
            "text/plain": [
              "array(['red', 'yellow', 'green', 'purple', 'grey'], dtype='<U6')"
            ]
          },
          "metadata": {},
          "execution_count": 98
        }
      ]
    },
    {
      "cell_type": "markdown",
      "source": [
        "* Create a copy of the original array. Change the second value of the array using the view. Print the old and new names of the array and see what happened.\n"
      ],
      "metadata": {
        "id": "v3so_s7tEe6D"
      }
    },
    {
      "cell_type": "code",
      "source": [
        "copy_of_new_favorite_colors = favorite_colors.copy()\n",
        "\n",
        "favorite_colors.copy()\n",
        "print(copy_of_new_favorite_colors)\n",
        "\n"
      ],
      "metadata": {
        "id": "lAMZYKrTEumh",
        "colab": {
          "base_uri": "https://localhost:8080/"
        },
        "outputId": "e963f0ea-a347-46dd-8db3-9b707ce2cf7b"
      },
      "execution_count": 101,
      "outputs": [
        {
          "output_type": "stream",
          "name": "stdout",
          "text": [
            "['red' 'yellow' 'green' 'purple' 'grey']\n"
          ]
        }
      ]
    },
    {
      "cell_type": "code",
      "source": [
        ""
      ],
      "metadata": {
        "colab": {
          "base_uri": "https://localhost:8080/"
        },
        "id": "3c-AxM-zkEE8",
        "outputId": "cb7064fd-9aab-4d2a-eafa-5db8f08ddcdd"
      },
      "execution_count": 97,
      "outputs": [
        {
          "output_type": "execute_result",
          "data": {
            "text/plain": [
              "array(['red', 'yellow', 'green', 'purple', 'grey'], dtype='<U6')"
            ]
          },
          "metadata": {},
          "execution_count": 97
        }
      ]
    },
    {
      "cell_type": "markdown",
      "source": [
        "#Universal functions\n",
        "\n",
        "NumPy provides useful mathematical functions called Universal Functions. These functions operate element-wise on an array, producing another array as output. "
      ],
      "metadata": {
        "id": "DSF-1Rod_biB"
      }
    },
    {
      "cell_type": "code",
      "source": [
        "#create some new arrays to work with our functions\n",
        "\n",
        "a = np.array([2,4,9,16,25])\n",
        "b = np.array([1.3, 2.5, 3.7, 7.19, -1.1, -2.8])\n"
      ],
      "metadata": {
        "id": "Vhm_CQx1_zbq"
      },
      "execution_count": 102,
      "outputs": []
    },
    {
      "cell_type": "code",
      "source": [
        "#Find the square root of each element in the array\n",
        "\n",
        "np.sqrt(a)\n"
      ],
      "metadata": {
        "id": "t0GMmkFi_lFL",
        "colab": {
          "base_uri": "https://localhost:8080/"
        },
        "outputId": "37046de8-8061-45ad-c4e0-ee9592fc93bc"
      },
      "execution_count": 103,
      "outputs": [
        {
          "output_type": "execute_result",
          "data": {
            "text/plain": [
              "array([1.41421356, 2.        , 3.        , 4.        , 5.        ])"
            ]
          },
          "metadata": {},
          "execution_count": 103
        }
      ]
    },
    {
      "cell_type": "code",
      "source": [
        "#find the floor (largest integer) for each element in the array\n",
        "\n",
        "np.floor(b)"
      ],
      "metadata": {
        "id": "iPFOhToxAie4",
        "colab": {
          "base_uri": "https://localhost:8080/"
        },
        "outputId": "6c3dbaa1-de41-4562-e418-2e50a6776b16"
      },
      "execution_count": 104,
      "outputs": [
        {
          "output_type": "execute_result",
          "data": {
            "text/plain": [
              "array([ 1.,  2.,  3.,  7., -2., -3.])"
            ]
          },
          "metadata": {},
          "execution_count": 104
        }
      ]
    },
    {
      "cell_type": "code",
      "source": [
        "#you can even do trig!\n",
        "\n",
        "print(np.cos(0))\n",
        "print(np.sin(1))\n"
      ],
      "metadata": {
        "id": "cJUnTbq9BQM0",
        "colab": {
          "base_uri": "https://localhost:8080/"
        },
        "outputId": "6940e2a0-984b-4dad-c5d1-a0dc1ae7bbbb"
      },
      "execution_count": 105,
      "outputs": [
        {
          "output_type": "stream",
          "name": "stdout",
          "text": [
            "1.0\n",
            "0.8414709848078965\n"
          ]
        }
      ]
    },
    {
      "cell_type": "code",
      "source": [
        "from numpy import pi \n",
        "\n",
        "np.sin(pi/2)"
      ],
      "metadata": {
        "id": "VnNQXqIYBkJ-",
        "colab": {
          "base_uri": "https://localhost:8080/"
        },
        "outputId": "6fb229aa-9e60-4089-91ed-6f8e340fa7ff"
      },
      "execution_count": 106,
      "outputs": [
        {
          "output_type": "execute_result",
          "data": {
            "text/plain": [
              "1.0"
            ]
          },
          "metadata": {},
          "execution_count": 106
        }
      ]
    },
    {
      "cell_type": "markdown",
      "source": [
        "#Broadcasting\n",
        "\n",
        "NumPy uses broadcasting to carry out arithmetic operations between arrays of different shapes. In this method, NumPy automatically broadcasts the smaller array over the larger array. "
      ],
      "metadata": {
        "id": "GFZHrCgxCo6c"
      }
    },
    {
      "cell_type": "code",
      "source": [
        "#create two arrays of the same size\n",
        "\n",
        "array_a = np.array([2,3,5,8])\n",
        "array_b = np.array([.3,.3,.3,.3])"
      ],
      "metadata": {
        "id": "4VZ2DRdlBnLc"
      },
      "execution_count": null,
      "outputs": []
    },
    {
      "cell_type": "code",
      "source": [
        "#multiply the arrays. because they are the same size, this is element-wise operation\n",
        "\n",
        "array_a * array_b"
      ],
      "metadata": {
        "id": "6br_K0XTDG3Q"
      },
      "execution_count": null,
      "outputs": []
    },
    {
      "cell_type": "code",
      "source": [
        "#create a scalar value (not an array)\n",
        "\n",
        "scalar_c = .3"
      ],
      "metadata": {
        "id": "6Yy_JH4oDQRQ"
      },
      "execution_count": null,
      "outputs": []
    },
    {
      "cell_type": "code",
      "source": [
        "#multiply array_a by the scalar \n",
        "#the scalar will be 'broadcast' across the array\n",
        "\n",
        "array_a * scalar_c"
      ],
      "metadata": {
        "id": "YMbLFHjLDXyC"
      },
      "execution_count": null,
      "outputs": []
    },
    {
      "cell_type": "markdown",
      "source": [
        "#Linear algebra"
      ],
      "metadata": {
        "id": "XLZVR7d2Do_N"
      }
    },
    {
      "cell_type": "markdown",
      "source": [
        "####Transpose\n",
        "\n",
        "NumPy can carry out linear algebraic functions as well. The “transpose()” function can help you interchange rows as columns, and vice-versa.\n"
      ],
      "metadata": {
        "id": "7eh-YTI8Dros"
      }
    },
    {
      "cell_type": "code",
      "source": [
        "test_scores = np.array([[83,71,57,63], [54,68,81,45]])\n",
        "\n",
        "test_scores"
      ],
      "metadata": {
        "id": "fPUIMq8rDvkG",
        "colab": {
          "base_uri": "https://localhost:8080/"
        },
        "outputId": "ad9d3bf2-b3ab-4e12-cd28-0fb7251e5c26"
      },
      "execution_count": 107,
      "outputs": [
        {
          "output_type": "execute_result",
          "data": {
            "text/plain": [
              "array([[83, 71, 57, 63],\n",
              "       [54, 68, 81, 45]])"
            ]
          },
          "metadata": {},
          "execution_count": 107
        }
      ]
    },
    {
      "cell_type": "code",
      "source": [
        "test_scores.transpose()"
      ],
      "metadata": {
        "id": "sV6vA077Food",
        "colab": {
          "base_uri": "https://localhost:8080/"
        },
        "outputId": "d09a094b-9bc6-4501-d9e3-7c4d6e0fefb8"
      },
      "execution_count": 108,
      "outputs": [
        {
          "output_type": "execute_result",
          "data": {
            "text/plain": [
              "array([[83, 54],\n",
              "       [71, 68],\n",
              "       [57, 81],\n",
              "       [63, 45]])"
            ]
          },
          "metadata": {},
          "execution_count": 108
        }
      ]
    }
  ]
}